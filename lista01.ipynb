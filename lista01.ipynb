{
  "cells": [
    {
      "cell_type": "markdown",
      "metadata": {
        "id": "view-in-github",
        "colab_type": "text"
      },
      "source": [
        "<a href=\"https://colab.research.google.com/github/aluizakarl/introPython/blob/main/lista01.ipynb\" target=\"_parent\"><img src=\"https://colab.research.google.com/assets/colab-badge.svg\" alt=\"Open In Colab\"/></a>"
      ]
    },
    {
      "cell_type": "markdown",
      "id": "1a972f5b",
      "metadata": {
        "id": "1a972f5b"
      },
      "source": [
        "# Lista 01 de exercícios"
      ]
    },
    {
      "cell_type": "markdown",
      "id": "6cce6097",
      "metadata": {
        "id": "6cce6097"
      },
      "source": [
        "## 1. Tipos de Dados"
      ]
    },
    {
      "cell_type": "markdown",
      "id": "3a1383ff",
      "metadata": {
        "id": "3a1383ff"
      },
      "source": [
        "### 1.1. Manipulação de Sequências de DNA"
      ]
    },
    {
      "cell_type": "markdown",
      "source": [
        "Dada a sequência de DNA abaixo, extraia o gene (substring) e converta-o para maiúsculas."
      ],
      "metadata": {
        "id": "7rwvvZseshIX"
      },
      "id": "7rwvvZseshIX"
    },
    {
      "cell_type": "code",
      "execution_count": 1,
      "id": "6cd132a3",
      "metadata": {
        "id": "6cd132a3"
      },
      "outputs": [],
      "source": [
        "sequencia_dna = \"atgcttagctagcttgatcgatcgtagctgac\"\n",
        "# Seu código aqui\n"
      ]
    },
    {
      "cell_type": "markdown",
      "id": "ee200b46",
      "metadata": {
        "id": "ee200b46"
      },
      "source": [
        "### 1.2. Operações com Listas de Genes"
      ]
    },
    {
      "cell_type": "markdown",
      "source": [
        "Dada a lista de genes abaixo, adicione um novo gene ao final da lista e remova um gene específico."
      ],
      "metadata": {
        "id": "UxFzxQzfsvRs"
      },
      "id": "UxFzxQzfsvRs"
    },
    {
      "cell_type": "code",
      "execution_count": 2,
      "id": "ad6a7ecf",
      "metadata": {
        "id": "ad6a7ecf"
      },
      "outputs": [],
      "source": [
        "genes = [\"BRCA1\", \"TP53\", \"EGFR\", \"MYC\"]\n",
        "# Seu código aqui\n"
      ]
    },
    {
      "cell_type": "markdown",
      "id": "7edf2f43",
      "metadata": {
        "id": "7edf2f43"
      },
      "source": [
        "### 1.3. Uso de Dicionários para Informações de Genes"
      ]
    },
    {
      "cell_type": "markdown",
      "source": [
        "Crie um dicionário com informações sobre um gene: 'nome': 'BRCA1', 'localização': '17q21.31', 'função': 'Reparo de DNA'. Em seguida, atualize a função para 'Supressor de tumor' e adicione um novo par chave-valor 'mutação_comum': '185delAG'."
      ],
      "metadata": {
        "id": "hqdMQhuWsymN"
      },
      "id": "hqdMQhuWsymN"
    },
    {
      "cell_type": "code",
      "execution_count": 4,
      "id": "e971e27e",
      "metadata": {
        "id": "e971e27e"
      },
      "outputs": [],
      "source": [
        "# Seu código aqui\n",
        "\n"
      ]
    },
    {
      "cell_type": "markdown",
      "id": "eae7b8fb",
      "metadata": {
        "id": "eae7b8fb"
      },
      "source": [
        "## 2. Condicionais"
      ]
    },
    {
      "cell_type": "markdown",
      "id": "a42b020e",
      "metadata": {
        "id": "a42b020e"
      },
      "source": [
        "### 2.1. Estruturas if-else para Verificação de Bases de DNA"
      ]
    },
    {
      "cell_type": "markdown",
      "source": [
        "Verifique se uma base de DNA é purina (A ou G) ou pirimidina (C ou T). Imprima uma mensagem correspondente para cada caso."
      ],
      "metadata": {
        "id": "swnvKF1Xs5if"
      },
      "id": "swnvKF1Xs5if"
    },
    {
      "cell_type": "code",
      "execution_count": 5,
      "id": "c1eb1aca",
      "metadata": {
        "id": "c1eb1aca"
      },
      "outputs": [],
      "source": [
        "base = 'G'\n",
        "# Seu código aqui\n"
      ]
    },
    {
      "cell_type": "markdown",
      "id": "30a39d73",
      "metadata": {
        "id": "30a39d73"
      },
      "source": [
        "### 2.2. Uso de Operadores Lógicos para Verificação de Motivos"
      ]
    },
    {
      "cell_type": "markdown",
      "source": [
        "Verifique se uma sequência de DNA contém o motivo 'ATG'. Se contiver, imprima 'Motivo encontrado', caso contrário, imprima 'Motivo não encontrado'."
      ],
      "metadata": {
        "id": "9aSMRSpgs9zJ"
      },
      "id": "9aSMRSpgs9zJ"
    },
    {
      "cell_type": "code",
      "execution_count": 6,
      "id": "294b1fa9",
      "metadata": {
        "id": "294b1fa9"
      },
      "outputs": [],
      "source": [
        "sequencia = \"ccgatggcttacgt\"\n",
        "# Seu código aqui\n",
        "\n"
      ]
    },
    {
      "cell_type": "markdown",
      "id": "76436eb1",
      "metadata": {
        "id": "76436eb1"
      },
      "source": [
        "## 3. Repetições"
      ]
    },
    {
      "cell_type": "markdown",
      "id": "7ae2d3ac",
      "metadata": {
        "id": "7ae2d3ac"
      },
      "source": [
        "### 3.1. Laços for para Calcular o Conteúdo GC"
      ]
    },
    {
      "cell_type": "markdown",
      "source": [
        "Calcule o conteúdo GC de uma sequência de DNA. Conte o número de Gs e Cs e divida pelo comprimento total da sequência.\n"
      ],
      "metadata": {
        "id": "iLXx5eA_tO5r"
      },
      "id": "iLXx5eA_tO5r"
    },
    {
      "cell_type": "code",
      "execution_count": null,
      "id": "31444e9d",
      "metadata": {
        "id": "31444e9d"
      },
      "outputs": [],
      "source": [
        "sequencia_dna = \"agctatcgatcggctagcgct\"\n",
        "# Seu código aqui\n",
        "\n"
      ]
    },
    {
      "cell_type": "markdown",
      "id": "73b93a0b",
      "metadata": {
        "id": "73b93a0b"
      },
      "source": [
        "### 3.2. Laços while para Encontrar Motivos"
      ]
    },
    {
      "cell_type": "markdown",
      "source": [
        "Encontre todas as ocorrências do motivo 'ATG' em uma sequência de DNA e imprima suas posições.\n"
      ],
      "metadata": {
        "id": "UqA1V43ctTNH"
      },
      "id": "UqA1V43ctTNH"
    },
    {
      "cell_type": "code",
      "execution_count": null,
      "id": "0d085c74",
      "metadata": {
        "id": "0d085c74"
      },
      "outputs": [],
      "source": [
        "sequencia = \"atgcgatgatcgatgctagcatg\"\n",
        "motivo = \"ATG\"\n",
        "posicao = 0\n",
        "\n",
        "# Seu código aqui\n"
      ]
    },
    {
      "cell_type": "markdown",
      "id": "a066cd92",
      "metadata": {
        "id": "a066cd92"
      },
      "source": [
        "### 3.3. Uso da função range() para Simular Leituras de Sequenciamento"
      ]
    },
    {
      "cell_type": "markdown",
      "source": [
        "Simule leituras de sequenciamento (reads) de uma sequência maior. Gere sub-sequências de comprimento 5 a partir da sequência fornecida.\n"
      ],
      "metadata": {
        "id": "vKNw2AbntXqb"
      },
      "id": "vKNw2AbntXqb"
    },
    {
      "cell_type": "code",
      "execution_count": null,
      "id": "aa1ec8b2",
      "metadata": {
        "id": "aa1ec8b2"
      },
      "outputs": [],
      "source": [
        "sequencia_maior = \"atgctagctagctagctgactgca\"\n",
        "tamanho_read = 5\n",
        "reads = []\n",
        "\n",
        "# Seu código aqui\n",
        "\n"
      ]
    }
  ],
  "metadata": {
    "colab": {
      "provenance": [],
      "include_colab_link": true
    },
    "language_info": {
      "name": "python"
    },
    "kernelspec": {
      "name": "python3",
      "display_name": "Python 3"
    }
  },
  "nbformat": 4,
  "nbformat_minor": 5
}